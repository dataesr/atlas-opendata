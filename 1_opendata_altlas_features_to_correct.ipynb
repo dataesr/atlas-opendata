{
 "cells": [
  {
   "cell_type": "code",
   "execution_count": 1,
   "metadata": {},
   "outputs": [],
   "source": [
    "#importer les packages\n",
    "import os\n",
    "import pandas as pd\n",
    "from tqdm.notebook import tqdm\n",
    "tqdm.pandas()\n",
    "\n",
    "from utils.correcting_features import corrige_all, corrige_etabli2, corrige_rgp2, corrige_rgp3, corrige_op_ing\n",
    "from utils.load_corrections import get_all_correctifs_from_google, load_all_correctifs\n",
    "from utils.traitements import importtab, gentab"
   ]
  },
  {
   "cell_type": "code",
   "execution_count": 2,
   "metadata": {},
   "outputs": [],
   "source": [
    "# ATTENTION, avant de commencer, s'assurer d'avoir un dossier \"INPUT\" \n",
    "# avec les données au format parquet pour chaque année et un dossier\n",
    "# POST_GENTAB pour acceuillir les données traitées (attention c'est assez volumineux)\n",
    "\n",
    "# Modifier la page format du googlesheet si il y a de nouveaux formats cette année\n",
    "# Modifier également la page D_EPE du googlesheet ESR pour ajouter les EPE de la nouvelle année"
   ]
  },
  {
   "cell_type": "code",
   "execution_count": 3,
   "metadata": {},
   "outputs": [],
   "source": [
    "DATA_PATH=os.getcwd()"
   ]
  },
  {
   "cell_type": "code",
   "execution_count": 4,
   "metadata": {},
   "outputs": [],
   "source": [
    "url_atlas='https://docs.google.com/spreadsheet/ccc?key=11NFXSIg6gQMCsMa8zWQQyypvvYBEmfyJfF2yytXqgMk&output=xls'\n",
    "url_esr='https://docs.google.com/spreadsheet/ccc?key=1FwPq5Qw7Gbgj_sBD6Za4dfDDk6ydozQ99TyRjLkW5d8&output=xls'\n",
    "\n",
    "VARS_atlas=['COM_U','COM_M', 'ETABLI', 'MINISTER', 'DC', 'NATION', 'ETABLI2', 'FORMAT','CURSUS_LMD', 'DISCIPLI','RGP2', 'RGP3','OP_ING','SECRET']\n",
    "VARS_esr=['O_DUTBUT','J_LMDDONT','DISCIPLINES_SISE','FORMAT','LES_COMMUNES','D_EPE','C_ETABLISSEMENTS']"
   ]
  },
  {
   "cell_type": "markdown",
   "metadata": {},
   "source": [
    "Charger les données des googlesheets depuis google en local au format .json dans le dossier (pas besoin de le faire à chaque fois, à faire si c'est la première fois OU lors d'une modification sur le.s googlesheet.s)"
   ]
  },
  {
   "cell_type": "code",
   "execution_count": 5,
   "metadata": {},
   "outputs": [],
   "source": [
    "get_all_correctifs_from_google(url_atlas,VARS_atlas,'_atlas')\n",
    "get_all_correctifs_from_google(url_esr,VARS_esr,'_esr')"
   ]
  },
  {
   "cell_type": "markdown",
   "metadata": {},
   "source": [
    "Charger les 2 googlessheets dans le notebook"
   ]
  },
  {
   "cell_type": "code",
   "execution_count": 6,
   "metadata": {},
   "outputs": [],
   "source": [
    "CORRECTIFS_dict_esr = load_all_correctifs('_esr')\n",
    "CORRECTIFS_dict = load_all_correctifs('_atlas')"
   ]
  },
  {
   "cell_type": "code",
   "execution_count": 7,
   "metadata": {},
   "outputs": [],
   "source": [
    "formats=pd.DataFrame(CORRECTIFS_dict_esr['FORMAT']).drop_duplicates()"
   ]
  },
  {
   "cell_type": "markdown",
   "metadata": {},
   "source": [
    "On charge bien la rentrée scolaire de l'année en cours"
   ]
  },
  {
   "cell_type": "code",
   "execution_count": 7,
   "metadata": {},
   "outputs": [],
   "source": [
    "rentree_sco=2023"
   ]
  },
  {
   "cell_type": "markdown",
   "metadata": {},
   "source": [
    "On charge les données correspondantes"
   ]
  },
  {
   "cell_type": "code",
   "execution_count": 8,
   "metadata": {},
   "outputs": [],
   "source": [
    "df=pd.read_parquet(f\"./INPUT/ts{str(rentree_sco)[2:]}d_tot.parquet\", engine='fastparquet')"
   ]
  },
  {
   "cell_type": "code",
   "execution_count": 9,
   "metadata": {},
   "outputs": [],
   "source": [
    "df.columns=[x.upper() for x in df.columns]"
   ]
  },
  {
   "cell_type": "code",
   "execution_count": 10,
   "metadata": {},
   "outputs": [],
   "source": [
    "#verifier que HCPGE est bien rempli\n",
    "if 'HCPGE' in list(df.columns):\n",
    "    print(df.HCPGE.value_counts())"
   ]
  },
  {
   "cell_type": "code",
   "execution_count": 11,
   "metadata": {},
   "outputs": [],
   "source": [
    "#voir les effectifs sans les doubles comptes\n",
    "if 'HSIFA' in list(df.columns):\n",
    "    print(df.EFFTOT.sum()-df.loc[(df['HSIFA']==0.0),'EFFTOT'].sum())\n",
    "    print(df.loc[(df['HSIFA']==0.0),'EFFTOT'].sum())"
   ]
  },
  {
   "cell_type": "markdown",
   "metadata": {},
   "source": [
    "On applique la fonction importtab, qui va corriger les features une par une de cette année"
   ]
  },
  {
   "cell_type": "code",
   "execution_count": null,
   "metadata": {},
   "outputs": [],
   "source": [
    "df_up=importtab(df,CORRECTIFS_dict,CORRECTIFS_dict_esr,corrige_etabli2,corrige_all,rentree_sco)"
   ]
  },
  {
   "cell_type": "code",
   "execution_count": null,
   "metadata": {},
   "outputs": [],
   "source": [
    "# test EFFTOT si ils sont toujours egaux sans HSIFA\n",
    "if 'HSIFA' in list(df.columns):\n",
    "    print(df_up['HSIFA'].value_counts())\n",
    "    print(df_up.EFFTOT.sum()-df_up.loc[(df_up['HSIFA']==0.0),'EFFTOT'].sum()==df.EFFTOT.sum()-df.loc[(df['HSIFA']==0.0),'EFFTOT'].sum())"
   ]
  },
  {
   "cell_type": "code",
   "execution_count": null,
   "metadata": {},
   "outputs": [],
   "source": [
    "# test si nouveaux formats cette année\n",
    "[x for x in list(df_up.FORMAT.drop_duplicates()) if x not in list(pd.DataFrame(CORRECTIFS_dict_esr['FORMAT'])['FORMAT'].drop_duplicates())]"
   ]
  },
  {
   "cell_type": "code",
   "execution_count": 15,
   "metadata": {},
   "outputs": [],
   "source": [
    "#fonction gentab"
   ]
  },
  {
   "cell_type": "code",
   "execution_count": null,
   "metadata": {},
   "outputs": [],
   "source": [
    "df_up2= gentab(df_up, rentree_sco, CORRECTIFS_dict, CORRECTIFS_dict_esr, corrige_rgp2, corrige_rgp3, corrige_op_ing)"
   ]
  },
  {
   "cell_type": "markdown",
   "metadata": {},
   "source": [
    "On regarde si les effectifs des apprentis sont présents"
   ]
  },
  {
   "cell_type": "code",
   "execution_count": null,
   "metadata": {},
   "outputs": [],
   "source": [
    "if 'EFF_STS_APP' in df_up2.columns:\n",
    "    print(df_up2.EFF_STS_APP.value_counts())"
   ]
  },
  {
   "cell_type": "markdown",
   "metadata": {},
   "source": [
    "Pour chaque année, on enregistre les données traitées"
   ]
  },
  {
   "cell_type": "code",
   "execution_count": 18,
   "metadata": {},
   "outputs": [],
   "source": [
    "df_up2.to_json(f\"./POST_GENTAB/atlas{str(rentree_sco)}.json\")"
   ]
  }
 ],
 "metadata": {
  "kernelspec": {
   "display_name": "Python 3",
   "language": "python",
   "name": "python3"
  },
  "language_info": {
   "codemirror_mode": {
    "name": "ipython",
    "version": 3
   },
   "file_extension": ".py",
   "mimetype": "text/x-python",
   "name": "python",
   "nbconvert_exporter": "python",
   "pygments_lexer": "ipython3",
   "version": "3.9.10"
  }
 },
 "nbformat": 4,
 "nbformat_minor": 2
}
