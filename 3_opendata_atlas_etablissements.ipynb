{
 "cells": [
  {
   "cell_type": "code",
   "execution_count": 2,
   "metadata": {},
   "outputs": [],
   "source": [
    "#importer les packages\n",
    "import requests\n",
    "import pandas as pd\n",
    "import numpy as np\n",
    "from tqdm.notebook import tqdm\n",
    "tqdm.pandas()"
   ]
  },
  {
   "cell_type": "code",
   "execution_count": 3,
   "metadata": {},
   "outputs": [],
   "source": [
    "rentree_sco=2023"
   ]
  },
  {
   "cell_type": "code",
   "execution_count": 4,
   "metadata": {},
   "outputs": [],
   "source": [
    "liste_gentab=[]\n",
    "for i in range(2015,rentree_sco+1,1):\n",
    "    liste_gentab.append(pd.read_json(f\"./POST_GENTAB/atlas{i}.json\"))"
   ]
  },
  {
   "cell_type": "code",
   "execution_count": 4,
   "metadata": {},
   "outputs": [],
   "source": [
    "df_tot=pd.concat(liste_gentab)"
   ]
  },
  {
   "cell_type": "code",
   "execution_count": 5,
   "metadata": {},
   "outputs": [
    {
     "data": {
      "text/plain": [
       "2579450"
      ]
     },
     "execution_count": 5,
     "metadata": {},
     "output_type": "execute_result"
    }
   ],
   "source": [
    "df_tot[(df_tot.RENTREE==2015)&(df_tot.REG_NOM!='Étranger')].EFFSDC.sum()"
   ]
  },
  {
   "cell_type": "code",
   "execution_count": 6,
   "metadata": {},
   "outputs": [
    {
     "data": {
      "text/plain": [
       "2620489"
      ]
     },
     "execution_count": 6,
     "metadata": {},
     "output_type": "execute_result"
    }
   ],
   "source": [
    "df_tot[(df_tot.RENTREE==2015)&(df_tot.REG_NOM!='Étranger')].EFFTOT.sum()"
   ]
  },
  {
   "cell_type": "code",
   "execution_count": 16,
   "metadata": {},
   "outputs": [],
   "source": [
    "df_tot=df_tot[['RENTREE', 'ETABLISSEMENT', 'SECT', 'ETABLI', 'SIGLE_M', 'LIB1_M', 'LIB2_M', 'COMPOS', 'SIGLE_U', 'LIB1_U', 'LIB2_U', 'REG_ID', 'REG_NOM', \n",
    " 'ACA_ID', 'ACA_NOM', 'DEP_ID', 'DEP_NUM_NOM', 'UUCR_ID', 'UUCR_NOM', 'COM_CODE', 'COM_NOM', 'DEGETU', 'SEXE','EFFSDC']]"
   ]
  },
  {
   "cell_type": "code",
   "execution_count": 17,
   "metadata": {},
   "outputs": [],
   "source": [
    "dict_a={'RENTREE':'rentree','EFFSDC':'effectifhdccpge','SECT':'secteur_etablissement','ETABLI':'id_etablissement','SIGLE_M':'sigle_etablissement',\n",
    "        'LIB1_M':'libelle_etablissement_1','LIB2_M':'libelle_etablissement_2','COMPOS':'id_composante', 'ETABLISSEMENT':'categorie_etablissement',\n",
    "        'LIB2_U':'libelle_composante_2','LIB1_U':'libelle_composante_1','SIGLE_U':'sigle_composante',\n",
    "        'REG_ID':'reg_id','ACA_ID':'aca_id','DEP_ID':'dep_id','UUCR_ID':'uucr_id','COM_CODE':'com_code',\n",
    "        'REG_NOM':'reg_nom','ACA_NOM':'aca_nom','DEP_NUM_NOM':'dep_num_nom','UUCR_NOM':'uucr_nom','COM_NOM':'com_nom','DEGETU':'degetu'}"
   ]
  },
  {
   "cell_type": "code",
   "execution_count": 18,
   "metadata": {},
   "outputs": [],
   "source": [
    "df_tot=df_tot.rename(columns=dict_a)"
   ]
  },
  {
   "cell_type": "code",
   "execution_count": 19,
   "metadata": {},
   "outputs": [
    {
     "data": {
      "text/plain": [
       "rentree\n",
       "2023    64822\n",
       "2022    61464\n",
       "2021    59891\n",
       "2020    30507\n",
       "2019    29491\n",
       "2018    28751\n",
       "2017    28415\n",
       "2016    26796\n",
       "2015    26274\n",
       "Name: count, dtype: int64"
      ]
     },
     "execution_count": 19,
     "metadata": {},
     "output_type": "execute_result"
    }
   ],
   "source": [
    "df_tot.rentree.value_counts()"
   ]
  },
  {
   "cell_type": "code",
   "execution_count": 20,
   "metadata": {},
   "outputs": [],
   "source": [
    "df_tot=df_tot[df_tot.effectifhdccpge!=0]"
   ]
  },
  {
   "cell_type": "code",
   "execution_count": 21,
   "metadata": {},
   "outputs": [
    {
     "data": {
      "text/plain": [
       "rentree\n",
       "2023    64729\n",
       "2022    61383\n",
       "2021    59816\n",
       "2020    30463\n",
       "2019    29446\n",
       "2018    28702\n",
       "2017    28373\n",
       "2016    26757\n",
       "2015    26244\n",
       "Name: count, dtype: int64"
      ]
     },
     "execution_count": 21,
     "metadata": {},
     "output_type": "execute_result"
    }
   ],
   "source": [
    "df_tot.rentree.value_counts()\n"
   ]
  },
  {
   "cell_type": "code",
   "execution_count": 22,
   "metadata": {},
   "outputs": [],
   "source": [
    "df_tot['dont_femmes'] = df_tot.apply(lambda row: row['effectifhdccpge'] if row['SEXE'] == 2 else 0, axis = 1)\n",
    "df_tot['dont_hommes'] = df_tot.apply(lambda row: row['effectifhdccpge'] if row['SEXE'] == 1 else 0, axis = 1)"
   ]
  },
  {
   "cell_type": "code",
   "execution_count": 23,
   "metadata": {},
   "outputs": [],
   "source": [
    "df2=df_tot[df_tot.rentree.isin([2021,2022,2023])].groupby(['rentree', 'categorie_etablissement', 'secteur_etablissement',\n",
    "       'id_etablissement', 'sigle_etablissement', 'libelle_etablissement_1',\n",
    "       'libelle_etablissement_2', 'id_composante', 'sigle_composante',\n",
    "       'libelle_composante_1', 'libelle_composante_2', 'reg_id', 'reg_nom',\n",
    "       'aca_id', 'aca_nom', 'dep_id', 'dep_num_nom', 'uucr_id', 'uucr_nom',\n",
    "       'com_code', 'com_nom', 'degetu']).agg({'effectifhdccpge':'sum','dont_hommes':'sum','dont_femmes':'sum'})"
   ]
  },
  {
   "cell_type": "code",
   "execution_count": 24,
   "metadata": {},
   "outputs": [],
   "source": [
    "df1=df_tot[df_tot.rentree.isin([2015,2016,2017,2018,2019,2020])].groupby(['rentree', 'categorie_etablissement', 'secteur_etablissement',\n",
    "       'id_etablissement', 'sigle_etablissement', 'libelle_etablissement_1',\n",
    "       'libelle_etablissement_2', 'id_composante', 'sigle_composante',\n",
    "       'libelle_composante_1', 'libelle_composante_2', 'reg_id', 'reg_nom',\n",
    "       'aca_id', 'aca_nom', 'dep_id', 'dep_num_nom', 'uucr_id', 'uucr_nom',\n",
    "       'com_code', 'com_nom']).agg({'effectifhdccpge':'sum','dont_hommes':'sum','dont_femmes':'sum'})"
   ]
  },
  {
   "cell_type": "code",
   "execution_count": 25,
   "metadata": {},
   "outputs": [],
   "source": [
    "df1=df1.reset_index()\n",
    "df2=df2.reset_index()"
   ]
  },
  {
   "cell_type": "code",
   "execution_count": 26,
   "metadata": {},
   "outputs": [],
   "source": [
    "df=pd.concat([df1,df2])"
   ]
  },
  {
   "cell_type": "code",
   "execution_count": 27,
   "metadata": {},
   "outputs": [
    {
     "data": {
      "text/html": [
       "<div>\n",
       "<style scoped>\n",
       "    .dataframe tbody tr th:only-of-type {\n",
       "        vertical-align: middle;\n",
       "    }\n",
       "\n",
       "    .dataframe tbody tr th {\n",
       "        vertical-align: top;\n",
       "    }\n",
       "\n",
       "    .dataframe thead th {\n",
       "        text-align: right;\n",
       "    }\n",
       "</style>\n",
       "<table border=\"1\" class=\"dataframe\">\n",
       "  <thead>\n",
       "    <tr style=\"text-align: right;\">\n",
       "      <th></th>\n",
       "      <th>rentree</th>\n",
       "      <th>categorie_etablissement</th>\n",
       "      <th>secteur_etablissement</th>\n",
       "      <th>id_etablissement</th>\n",
       "      <th>sigle_etablissement</th>\n",
       "      <th>libelle_etablissement_1</th>\n",
       "      <th>libelle_etablissement_2</th>\n",
       "      <th>id_composante</th>\n",
       "      <th>sigle_composante</th>\n",
       "      <th>libelle_composante_1</th>\n",
       "      <th>...</th>\n",
       "      <th>dep_id</th>\n",
       "      <th>dep_num_nom</th>\n",
       "      <th>uucr_id</th>\n",
       "      <th>uucr_nom</th>\n",
       "      <th>com_code</th>\n",
       "      <th>com_nom</th>\n",
       "      <th>effectifhdccpge</th>\n",
       "      <th>dont_hommes</th>\n",
       "      <th>dont_femmes</th>\n",
       "      <th>degetu</th>\n",
       "    </tr>\n",
       "  </thead>\n",
       "  <tbody>\n",
       "    <tr>\n",
       "      <th>0</th>\n",
       "      <td>2015</td>\n",
       "      <td>AUTRE UNIV</td>\n",
       "      <td>PR</td>\n",
       "      <td>0130247Y</td>\n",
       "      <td>FAC.THEO.REF.</td>\n",
       "      <td>FACULTE</td>\n",
       "      <td>JEAN CALVIN</td>\n",
       "      <td>0130247Y</td>\n",
       "      <td>FAC.THEO.REF.</td>\n",
       "      <td>FACULTE</td>\n",
       "      <td>...</td>\n",
       "      <td>D013</td>\n",
       "      <td>13 - Bouches-du-Rhône</td>\n",
       "      <td>UU00759</td>\n",
       "      <td>Marseille-Aix-en-Provence</td>\n",
       "      <td>13001</td>\n",
       "      <td>Aix-en-Provence</td>\n",
       "      <td>94</td>\n",
       "      <td>74</td>\n",
       "      <td>20</td>\n",
       "      <td>NaN</td>\n",
       "    </tr>\n",
       "    <tr>\n",
       "      <th>1</th>\n",
       "      <td>2015</td>\n",
       "      <td>AUTRE UNIV</td>\n",
       "      <td>PR</td>\n",
       "      <td>0310155A</td>\n",
       "      <td>ICT TOULOUSE</td>\n",
       "      <td>INSTITUT CATHOLIQUE TOULOUSE</td>\n",
       "      <td></td>\n",
       "      <td>0311114T</td>\n",
       "      <td>FAC LETTRES</td>\n",
       "      <td>FACULTE LETTRES</td>\n",
       "      <td>...</td>\n",
       "      <td>D031</td>\n",
       "      <td>31 - Haute-Garonne</td>\n",
       "      <td>UU00758</td>\n",
       "      <td>Toulouse</td>\n",
       "      <td>31555</td>\n",
       "      <td>Toulouse</td>\n",
       "      <td>1173</td>\n",
       "      <td>288</td>\n",
       "      <td>885</td>\n",
       "      <td>NaN</td>\n",
       "    </tr>\n",
       "    <tr>\n",
       "      <th>2</th>\n",
       "      <td>2015</td>\n",
       "      <td>AUTRE UNIV</td>\n",
       "      <td>PR</td>\n",
       "      <td>0310155A</td>\n",
       "      <td>ICT TOULOUSE</td>\n",
       "      <td>INSTITUT CATHOLIQUE TOULOUSE</td>\n",
       "      <td></td>\n",
       "      <td>0311243H</td>\n",
       "      <td>FAC THEOLOGIE</td>\n",
       "      <td>FACULTE THEOLOGIE</td>\n",
       "      <td>...</td>\n",
       "      <td>D031</td>\n",
       "      <td>31 - Haute-Garonne</td>\n",
       "      <td>UU00758</td>\n",
       "      <td>Toulouse</td>\n",
       "      <td>31555</td>\n",
       "      <td>Toulouse</td>\n",
       "      <td>1409</td>\n",
       "      <td>605</td>\n",
       "      <td>804</td>\n",
       "      <td>NaN</td>\n",
       "    </tr>\n",
       "    <tr>\n",
       "      <th>3</th>\n",
       "      <td>2015</td>\n",
       "      <td>AUTRE UNIV</td>\n",
       "      <td>PR</td>\n",
       "      <td>0310155A</td>\n",
       "      <td>ICT TOULOUSE</td>\n",
       "      <td>INSTITUT CATHOLIQUE TOULOUSE</td>\n",
       "      <td></td>\n",
       "      <td>0311244J</td>\n",
       "      <td>FAC DRT CANON</td>\n",
       "      <td>FACULTE DROIT CANONIQUE</td>\n",
       "      <td>...</td>\n",
       "      <td>D031</td>\n",
       "      <td>31 - Haute-Garonne</td>\n",
       "      <td>UU00758</td>\n",
       "      <td>Toulouse</td>\n",
       "      <td>31555</td>\n",
       "      <td>Toulouse</td>\n",
       "      <td>54</td>\n",
       "      <td>41</td>\n",
       "      <td>13</td>\n",
       "      <td>NaN</td>\n",
       "    </tr>\n",
       "    <tr>\n",
       "      <th>4</th>\n",
       "      <td>2015</td>\n",
       "      <td>AUTRE UNIV</td>\n",
       "      <td>PR</td>\n",
       "      <td>0310155A</td>\n",
       "      <td>ICT TOULOUSE</td>\n",
       "      <td>INSTITUT CATHOLIQUE TOULOUSE</td>\n",
       "      <td></td>\n",
       "      <td>0311245K</td>\n",
       "      <td>FAC PHILO</td>\n",
       "      <td>FACULTE PHILOSOPHIE</td>\n",
       "      <td>...</td>\n",
       "      <td>D031</td>\n",
       "      <td>31 - Haute-Garonne</td>\n",
       "      <td>UU00758</td>\n",
       "      <td>Toulouse</td>\n",
       "      <td>31555</td>\n",
       "      <td>Toulouse</td>\n",
       "      <td>198</td>\n",
       "      <td>99</td>\n",
       "      <td>99</td>\n",
       "      <td>NaN</td>\n",
       "    </tr>\n",
       "    <tr>\n",
       "      <th>...</th>\n",
       "      <td>...</td>\n",
       "      <td>...</td>\n",
       "      <td>...</td>\n",
       "      <td>...</td>\n",
       "      <td>...</td>\n",
       "      <td>...</td>\n",
       "      <td>...</td>\n",
       "      <td>...</td>\n",
       "      <td>...</td>\n",
       "      <td>...</td>\n",
       "      <td>...</td>\n",
       "      <td>...</td>\n",
       "      <td>...</td>\n",
       "      <td>...</td>\n",
       "      <td>...</td>\n",
       "      <td>...</td>\n",
       "      <td>...</td>\n",
       "      <td>...</td>\n",
       "      <td>...</td>\n",
       "      <td>...</td>\n",
       "      <td>...</td>\n",
       "    </tr>\n",
       "    <tr>\n",
       "      <th>62833</th>\n",
       "      <td>2023</td>\n",
       "      <td>veto</td>\n",
       "      <td>PU</td>\n",
       "      <td>0940608A</td>\n",
       "      <td>ENV ALFORT</td>\n",
       "      <td>ECOLE NAT VETERINAIRE ALFORT</td>\n",
       "      <td>ENVA</td>\n",
       "      <td>0940608A</td>\n",
       "      <td>ENV ALFORT</td>\n",
       "      <td>ECOLE NAT VETERINAIRE ALFORT</td>\n",
       "      <td>...</td>\n",
       "      <td>D094</td>\n",
       "      <td>94 - Val-de-Marne</td>\n",
       "      <td>UU00851</td>\n",
       "      <td>Paris</td>\n",
       "      <td>94046</td>\n",
       "      <td>Maisons-Alfort</td>\n",
       "      <td>328</td>\n",
       "      <td>62</td>\n",
       "      <td>266</td>\n",
       "      <td>2.0</td>\n",
       "    </tr>\n",
       "    <tr>\n",
       "      <th>62834</th>\n",
       "      <td>2023</td>\n",
       "      <td>veto</td>\n",
       "      <td>PU</td>\n",
       "      <td>0940608A</td>\n",
       "      <td>ENV ALFORT</td>\n",
       "      <td>ECOLE NAT VETERINAIRE ALFORT</td>\n",
       "      <td>ENVA</td>\n",
       "      <td>0940608A</td>\n",
       "      <td>ENV ALFORT</td>\n",
       "      <td>ECOLE NAT VETERINAIRE ALFORT</td>\n",
       "      <td>...</td>\n",
       "      <td>D094</td>\n",
       "      <td>94 - Val-de-Marne</td>\n",
       "      <td>UU00851</td>\n",
       "      <td>Paris</td>\n",
       "      <td>94046</td>\n",
       "      <td>Maisons-Alfort</td>\n",
       "      <td>158</td>\n",
       "      <td>37</td>\n",
       "      <td>121</td>\n",
       "      <td>3.0</td>\n",
       "    </tr>\n",
       "    <tr>\n",
       "      <th>62835</th>\n",
       "      <td>2023</td>\n",
       "      <td>veto</td>\n",
       "      <td>PU</td>\n",
       "      <td>0940608A</td>\n",
       "      <td>ENV ALFORT</td>\n",
       "      <td>ECOLE NAT VETERINAIRE ALFORT</td>\n",
       "      <td>ENVA</td>\n",
       "      <td>0940608A</td>\n",
       "      <td>ENV ALFORT</td>\n",
       "      <td>ECOLE NAT VETERINAIRE ALFORT</td>\n",
       "      <td>...</td>\n",
       "      <td>D094</td>\n",
       "      <td>94 - Val-de-Marne</td>\n",
       "      <td>UU00851</td>\n",
       "      <td>Paris</td>\n",
       "      <td>94046</td>\n",
       "      <td>Maisons-Alfort</td>\n",
       "      <td>132</td>\n",
       "      <td>35</td>\n",
       "      <td>97</td>\n",
       "      <td>4.0</td>\n",
       "    </tr>\n",
       "    <tr>\n",
       "      <th>62836</th>\n",
       "      <td>2023</td>\n",
       "      <td>veto</td>\n",
       "      <td>PU</td>\n",
       "      <td>0940608A</td>\n",
       "      <td>ENV ALFORT</td>\n",
       "      <td>ECOLE NAT VETERINAIRE ALFORT</td>\n",
       "      <td>ENVA</td>\n",
       "      <td>0940608A</td>\n",
       "      <td>ENV ALFORT</td>\n",
       "      <td>ECOLE NAT VETERINAIRE ALFORT</td>\n",
       "      <td>...</td>\n",
       "      <td>D094</td>\n",
       "      <td>94 - Val-de-Marne</td>\n",
       "      <td>UU00851</td>\n",
       "      <td>Paris</td>\n",
       "      <td>94046</td>\n",
       "      <td>Maisons-Alfort</td>\n",
       "      <td>103</td>\n",
       "      <td>26</td>\n",
       "      <td>77</td>\n",
       "      <td>5.0</td>\n",
       "    </tr>\n",
       "    <tr>\n",
       "      <th>62837</th>\n",
       "      <td>2023</td>\n",
       "      <td>veto</td>\n",
       "      <td>PU</td>\n",
       "      <td>0940608A</td>\n",
       "      <td>ENV ALFORT</td>\n",
       "      <td>ECOLE NAT VETERINAIRE ALFORT</td>\n",
       "      <td>ENVA</td>\n",
       "      <td>0940608A</td>\n",
       "      <td>ENV ALFORT</td>\n",
       "      <td>ECOLE NAT VETERINAIRE ALFORT</td>\n",
       "      <td>...</td>\n",
       "      <td>D094</td>\n",
       "      <td>94 - Val-de-Marne</td>\n",
       "      <td>UU00851</td>\n",
       "      <td>Paris</td>\n",
       "      <td>94046</td>\n",
       "      <td>Maisons-Alfort</td>\n",
       "      <td>131</td>\n",
       "      <td>27</td>\n",
       "      <td>104</td>\n",
       "      <td>6.0</td>\n",
       "    </tr>\n",
       "  </tbody>\n",
       "</table>\n",
       "<p>105660 rows × 25 columns</p>\n",
       "</div>"
      ],
      "text/plain": [
       "       rentree categorie_etablissement secteur_etablissement id_etablissement  \\\n",
       "0         2015              AUTRE UNIV                    PR         0130247Y   \n",
       "1         2015              AUTRE UNIV                    PR         0310155A   \n",
       "2         2015              AUTRE UNIV                    PR         0310155A   \n",
       "3         2015              AUTRE UNIV                    PR         0310155A   \n",
       "4         2015              AUTRE UNIV                    PR         0310155A   \n",
       "...        ...                     ...                   ...              ...   \n",
       "62833     2023                    veto                    PU         0940608A   \n",
       "62834     2023                    veto                    PU         0940608A   \n",
       "62835     2023                    veto                    PU         0940608A   \n",
       "62836     2023                    veto                    PU         0940608A   \n",
       "62837     2023                    veto                    PU         0940608A   \n",
       "\n",
       "      sigle_etablissement       libelle_etablissement_1  \\\n",
       "0           FAC.THEO.REF.                       FACULTE   \n",
       "1            ICT TOULOUSE  INSTITUT CATHOLIQUE TOULOUSE   \n",
       "2            ICT TOULOUSE  INSTITUT CATHOLIQUE TOULOUSE   \n",
       "3            ICT TOULOUSE  INSTITUT CATHOLIQUE TOULOUSE   \n",
       "4            ICT TOULOUSE  INSTITUT CATHOLIQUE TOULOUSE   \n",
       "...                   ...                           ...   \n",
       "62833          ENV ALFORT  ECOLE NAT VETERINAIRE ALFORT   \n",
       "62834          ENV ALFORT  ECOLE NAT VETERINAIRE ALFORT   \n",
       "62835          ENV ALFORT  ECOLE NAT VETERINAIRE ALFORT   \n",
       "62836          ENV ALFORT  ECOLE NAT VETERINAIRE ALFORT   \n",
       "62837          ENV ALFORT  ECOLE NAT VETERINAIRE ALFORT   \n",
       "\n",
       "      libelle_etablissement_2 id_composante sigle_composante  \\\n",
       "0                 JEAN CALVIN      0130247Y    FAC.THEO.REF.   \n",
       "1                                  0311114T      FAC LETTRES   \n",
       "2                                  0311243H    FAC THEOLOGIE   \n",
       "3                                  0311244J    FAC DRT CANON   \n",
       "4                                  0311245K        FAC PHILO   \n",
       "...                       ...           ...              ...   \n",
       "62833                    ENVA      0940608A       ENV ALFORT   \n",
       "62834                    ENVA      0940608A       ENV ALFORT   \n",
       "62835                    ENVA      0940608A       ENV ALFORT   \n",
       "62836                    ENVA      0940608A       ENV ALFORT   \n",
       "62837                    ENVA      0940608A       ENV ALFORT   \n",
       "\n",
       "               libelle_composante_1  ... dep_id            dep_num_nom  \\\n",
       "0                           FACULTE  ...   D013  13 - Bouches-du-Rhône   \n",
       "1                   FACULTE LETTRES  ...   D031     31 - Haute-Garonne   \n",
       "2                 FACULTE THEOLOGIE  ...   D031     31 - Haute-Garonne   \n",
       "3           FACULTE DROIT CANONIQUE  ...   D031     31 - Haute-Garonne   \n",
       "4               FACULTE PHILOSOPHIE  ...   D031     31 - Haute-Garonne   \n",
       "...                             ...  ...    ...                    ...   \n",
       "62833  ECOLE NAT VETERINAIRE ALFORT  ...   D094      94 - Val-de-Marne   \n",
       "62834  ECOLE NAT VETERINAIRE ALFORT  ...   D094      94 - Val-de-Marne   \n",
       "62835  ECOLE NAT VETERINAIRE ALFORT  ...   D094      94 - Val-de-Marne   \n",
       "62836  ECOLE NAT VETERINAIRE ALFORT  ...   D094      94 - Val-de-Marne   \n",
       "62837  ECOLE NAT VETERINAIRE ALFORT  ...   D094      94 - Val-de-Marne   \n",
       "\n",
       "       uucr_id                   uucr_nom com_code          com_nom  \\\n",
       "0      UU00759  Marseille-Aix-en-Provence    13001  Aix-en-Provence   \n",
       "1      UU00758                   Toulouse    31555         Toulouse   \n",
       "2      UU00758                   Toulouse    31555         Toulouse   \n",
       "3      UU00758                   Toulouse    31555         Toulouse   \n",
       "4      UU00758                   Toulouse    31555         Toulouse   \n",
       "...        ...                        ...      ...              ...   \n",
       "62833  UU00851                      Paris    94046   Maisons-Alfort   \n",
       "62834  UU00851                      Paris    94046   Maisons-Alfort   \n",
       "62835  UU00851                      Paris    94046   Maisons-Alfort   \n",
       "62836  UU00851                      Paris    94046   Maisons-Alfort   \n",
       "62837  UU00851                      Paris    94046   Maisons-Alfort   \n",
       "\n",
       "      effectifhdccpge dont_hommes dont_femmes degetu  \n",
       "0                  94          74          20    NaN  \n",
       "1                1173         288         885    NaN  \n",
       "2                1409         605         804    NaN  \n",
       "3                  54          41          13    NaN  \n",
       "4                 198          99          99    NaN  \n",
       "...               ...         ...         ...    ...  \n",
       "62833             328          62         266    2.0  \n",
       "62834             158          37         121    3.0  \n",
       "62835             132          35          97    4.0  \n",
       "62836             103          26          77    5.0  \n",
       "62837             131          27         104    6.0  \n",
       "\n",
       "[105660 rows x 25 columns]"
      ]
     },
     "execution_count": 27,
     "metadata": {},
     "output_type": "execute_result"
    }
   ],
   "source": [
    "df"
   ]
  },
  {
   "cell_type": "code",
   "execution_count": 28,
   "metadata": {},
   "outputs": [],
   "source": [
    "dic_degetu = {'0':'Inférieur ou égal au baccalauréat','1':'BAC + 1','2':'BAC + 2','3':'BAC + 3','4':'BAC + 4','5':'BAC + 5','6':'BAC + 6 et plus'}\n",
    "dic_etablissement = {'archi':\"Écoles d'architecture\",'art':'Écoles supérieures artistiques et culturelles','autre':'Autres écoles de spécialités diverses','AUTRE UNIV':\"Autre établissements d'enseignement universitaire\",'autre univ':\"Autre établissements d'enseignement universitaire\",'commerce':'Écoles de commerce, gestion et vente','ens':'Écoles normales supérieures','gd etab':'Grands établissements','inge':\"Écoles d'ingénieurs\",'inp ut':'Instituts nationaux polytechniques et universités de technologie','journalism':'Écoles de journalisme et écoles littéraires','journalisme':'Écoles de journalisme et écoles littéraires','jurid adm':'Écoles juridiques et administratives','lycee':'Lycées','paramedica':'Écoles paramédicales hors université','paramedical':'Écoles paramédicales hors université','social':'Écoles préparant aux fonctions sociales','univ priv':\"Établissements d'enseignement universitaire privés\",'universite':'Universités','veto':'Écoles vétérinaires','':np.nan}\n",
    "dic_secteur = {'PR':'Privé','PU':'Public'}"
   ]
  },
  {
   "cell_type": "code",
   "execution_count": 29,
   "metadata": {},
   "outputs": [],
   "source": [
    "df['degre_etudes']=df.loc[:,'degetu'].apply(lambda x: dic_degetu[str(int(x))] if pd.isna(x)==False else np.nan)"
   ]
  },
  {
   "cell_type": "code",
   "execution_count": 30,
   "metadata": {},
   "outputs": [
    {
     "data": {
      "text/plain": [
       "rentree\n",
       "2023    21644\n",
       "2022    20811\n",
       "2021    20383\n",
       "2019     7580\n",
       "2020     7342\n",
       "2018     7241\n",
       "2017     7154\n",
       "2016     6837\n",
       "2015     6668\n",
       "Name: count, dtype: int64"
      ]
     },
     "execution_count": 30,
     "metadata": {},
     "output_type": "execute_result"
    }
   ],
   "source": [
    "df.rentree.value_counts()"
   ]
  },
  {
   "cell_type": "code",
   "execution_count": 31,
   "metadata": {},
   "outputs": [],
   "source": [
    "df.loc[:,'categorie_etablissement']=df.loc[:,'categorie_etablissement'].apply(lambda x: dic_etablissement[x] if (pd.isna(x)==False) else np.nan)"
   ]
  },
  {
   "cell_type": "code",
   "execution_count": 32,
   "metadata": {},
   "outputs": [],
   "source": [
    "df.loc[:,'secteur_etablissement']=df.loc[:,'secteur_etablissement'].apply(lambda x: dic_secteur[x] if pd.isna(x)==False else np.nan)"
   ]
  },
  {
   "cell_type": "code",
   "execution_count": 33,
   "metadata": {},
   "outputs": [
    {
     "data": {
      "text/plain": [
       "rentree\n",
       "2023    21644\n",
       "2022    20811\n",
       "2021    20383\n",
       "2019     7580\n",
       "2020     7342\n",
       "2018     7241\n",
       "2017     7154\n",
       "2016     6837\n",
       "2015     6668\n",
       "Name: count, dtype: int64"
      ]
     },
     "execution_count": 33,
     "metadata": {},
     "output_type": "execute_result"
    }
   ],
   "source": [
    "df.rentree.value_counts()"
   ]
  },
  {
   "cell_type": "code",
   "execution_count": 34,
   "metadata": {},
   "outputs": [],
   "source": [
    "df=df[['rentree', 'categorie_etablissement', 'secteur_etablissement',\n",
    "       'id_etablissement', 'sigle_etablissement', 'libelle_etablissement_1',\n",
    "       'libelle_etablissement_2', 'id_composante', 'sigle_composante',\n",
    "       'libelle_composante_1', 'libelle_composante_2', 'reg_id', 'reg_nom',\n",
    "       'aca_id', 'aca_nom', 'dep_id', 'dep_num_nom', 'uucr_id', 'uucr_nom',\n",
    "       'com_code', 'com_nom', 'degetu', 'degre_etudes',\n",
    "       'effectifhdccpge', 'dont_femmes', 'dont_hommes']]"
   ]
  },
  {
   "cell_type": "code",
   "execution_count": 35,
   "metadata": {},
   "outputs": [],
   "source": [
    "df.to_json(f\"./OUTPUT_OPENDATA/OD_atlas_etab.json\", orient='records')\n",
    "df.to_csv(\"./OUTPUT_OPENDATA/OD_atlas_etab.csv\", sep=\";\", encoding=\"UTF-8\", index=False)"
   ]
  }
 ],
 "metadata": {
  "kernelspec": {
   "display_name": "Python 3",
   "language": "python",
   "name": "python3"
  },
  "language_info": {
   "codemirror_mode": {
    "name": "ipython",
    "version": 3
   },
   "file_extension": ".py",
   "mimetype": "text/x-python",
   "name": "python",
   "nbconvert_exporter": "python",
   "pygments_lexer": "ipython3",
   "version": "3.9.10"
  },
  "orig_nbformat": 4
 },
 "nbformat": 4,
 "nbformat_minor": 2
}
