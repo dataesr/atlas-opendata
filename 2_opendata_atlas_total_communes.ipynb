{
 "cells": [
  {
   "cell_type": "code",
   "execution_count": 1,
   "metadata": {},
   "outputs": [],
   "source": [
    "#importer les packages\n",
    "import pandas as pd\n",
    "from datetime import datetime\n",
    "from tqdm.notebook import tqdm\n",
    "tqdm.pandas()\n",
    "\n",
    "from utils.load_corrections import load_all_correctifs\n",
    "from utils.opendata import opendata_atlas"
   ]
  },
  {
   "cell_type": "code",
   "execution_count": 2,
   "metadata": {},
   "outputs": [],
   "source": [
    "CORRECTIFS_dict_esr = load_all_correctifs('_esr')"
   ]
  },
  {
   "cell_type": "markdown",
   "metadata": {},
   "source": [
    "à faire tourner pour chaque année:"
   ]
  },
  {
   "cell_type": "code",
   "execution_count": 3,
   "metadata": {},
   "outputs": [],
   "source": [
    "rentree_sco='2023'"
   ]
  },
  {
   "cell_type": "code",
   "execution_count": null,
   "metadata": {},
   "outputs": [],
   "source": [
    "df=pd.read_json(f\"./POST_GENTAB/atlas{rentree_sco}.json\")"
   ]
  },
  {
   "cell_type": "code",
   "execution_count": null,
   "metadata": {},
   "outputs": [],
   "source": [
    "#on verfifie que tous les codes d'uu sont identifiés\n",
    "df[pd.isna(df.UUCR_ID)]"
   ]
  },
  {
   "cell_type": "code",
   "execution_count": null,
   "metadata": {},
   "outputs": [],
   "source": [
    "#on vérifie que les COMPOS ne valent pas les codes communes (drom et com pas grave, 97)\n",
    "df[df.apply(lambda x:x.COMPOS[:5]==x.COM_CODE ,axis=1)][['COMPOS','COM_CODE']].drop_duplicates()"
   ]
  },
  {
   "cell_type": "code",
   "execution_count": null,
   "metadata": {},
   "outputs": [],
   "source": [
    "#on verfifie que tous les secteurs sont remplis\n",
    "df[pd.isna(df.SECT)]"
   ]
  },
  {
   "cell_type": "code",
   "execution_count": null,
   "metadata": {},
   "outputs": [],
   "source": [
    "#on verfifie que tous les sexes sont remplis\n",
    "df[pd.isna(df.SEXE)]"
   ]
  },
  {
   "cell_type": "code",
   "execution_count": null,
   "metadata": {},
   "outputs": [],
   "source": [
    "df.columns=[x.upper() for x in df.columns]\n",
    "df.loc[df['REG_ID']!=\"R99\",\"PAYS_ID\"]=\"PAYS_100\"\n",
    "df.loc[df['REG_ID']==\"R99\",\"PAYS_ID\"]=\"PAYS_999\"\n",
    "df.loc[(df['IUT']==\"IUT\")&(df['SPECIUT']==\"AUTRES\"),\"IUT2\"]=\"AUTRE\"\n",
    "df.loc[(df['IUT']==\"IUT\")&(df['SPECIUT']!=\"AUTRES\"),\"IUT2\"]=\"DUT\"\n",
    "df.loc[(df['IUT2']==\"DUT\")&(df['FORMAT'].isin([\"iutsec\",\"iutsge\",\"gdiuts\"])),\"DUT\"]=\"SEC\"\n",
    "df.loc[(df['IUT2']==\"DUT\")&(df['FORMAT'].isin([\"iutter\",\"iuttge\",\"gdiutt\"])),\"DUT\"]=\"TER\"\n",
    "df.loc[(df['RGP3']==\"STS\")&(df['FORMAT']==\"dcesf\"),\"STS_ASS\"]=\"dce\"\n",
    "df.loc[(df['RGP3']==\"STS\")&(df['FORMAT']==\"dmapr\"),\"STS_ASS\"]=\"DMA\"\n",
    "df.loc[(df['RGP3']==\"STS\")&(df['FORMAT']==\"dmase\"),\"STS_ASS\"]=\"DMA\"\n",
    "df.loc[(df['RGP3']==\"STS\")&(df['FORMAT']==\"nivpr\"),\"STS_ASS\"]=\"NIV\"\n",
    "df.loc[(df['RGP3']==\"STS\")&(df['FORMAT']==\"nivse\"),\"STS_ASS\"]=\"NIV\"\n",
    "df.loc[(df['RGP3']==\"STS\")&(df['FORMAT']==\"stsag\"),\"STS_ASS\"]=\"STS\"\n",
    "df.loc[(df['RGP3']==\"STS\")&(df['FORMAT']==\"stspr\"),\"STS_ASS\"]=\"STS\"\n",
    "df.loc[(df['RGP3']==\"STS\")&(df['FORMAT']==\"stsse\"),\"STS_ASS\"]=\"STS\"\n",
    "df.loc[(df['FORMAT']==\"cpgeag\"),\"FORMAT\"]=\"cpgesc\"\n",
    "df.loc[df['RGP3']=='UNIV','UNIV']='UNIV'\n",
    "df.loc[~df['RGP3'].isin([\"ENS\",\"GE\",\"INP\",\"IUFM\",\"UNIV\",\"UT\"]),'ETABLI']=\"\"\n",
    "df.loc[~df['RGP3'].isin([\"ENS\",\"GE\",\"INP\",\"IUFM\",\"UNIV\",\"UT\"]),'DISCIPLI']=\"\"\n",
    "df.loc[~df['RGP3'].isin([\"ENS\",\"GE\",\"INP\",\"IUFM\",\"UNIV\",\"UT\"]),'CURSUS_LMD']=\"\"\n",
    "df.loc[df['RENTREE'].apply(lambda x: int(x) > 2006),'ETABLI2']=df.loc[df['RENTREE'].apply(lambda x: int(x) > 2006),'ETABLI']\n",
    "\n",
    "if rentree_sco in [\"2014\",\"2013\",\"2012\",\"2011\",\"2010\",\"2009\",\"2008\",\"2007\"]:\n",
    "    df=df[['RENTREE','PAYS_ID','REG_ID','ACA_ID','DEP_ID','UUCR_ID','COM_CODE2','COM_CODE','ETABLI','RGP3','FORMAT','SECT','INSPE','IUT','IUT2','ING','TOTAL','LMDDONT','DISCIPLI','CURSUS_LMD','UNIV','STS_ASS','DUT','SEXE','UUCR_NOM','DEP_NUM_NOM','ACA_NOM','REG_NOM','EFFTOT']]\n",
    "elif int(rentree_sco) > 2016:\n",
    "    df=df[['RENTREE','PAYS_ID','REG_ID','ACA_ID','DEP_ID','UUCR_ID','COM_CODE2','COM_CODE','ETABLI','RGP3','FORMAT','SECT','INSPE','IUT','IUT2','ING','TOTAL','LMDDONT','DISCIPLI','CURSUS_LMD','UNIV','STS_ASS','DUT','SEXE','UUCR_NOM','DEP_NUM_NOM','ACA_NOM','REG_NOM','EFFTOT','EFFSDC', 'EFF_STS_APP',]]\n",
    "elif rentree_sco in [\"2006\",\"2005\",\"2004\",\"2003\",\"2002\",\"2001\"]:\n",
    "    df=df[['RENTREE','PAYS_ID','REG_ID','ACA_ID','DEP_ID','UUCR_ID','COM_CODE2','COM_CODE','ETABLI','RGP3','FORMAT','SECT','INSPE','IUT','IUT2','ING','TOTAL','UNIV','STS_ASS','DUT','SEXE','UUCR_NOM','DEP_NUM_NOM','ACA_NOM','REG_NOM','EFFTOT']]\n",
    "\n",
    "if rentree_sco in [\"2014\",\"2013\",\"2012\",\"2011\",\"2010\",\"2009\",\"2008\",\"2007\"]:\n",
    "    df=df.groupby(['RENTREE','PAYS_ID','REG_ID','ACA_ID','DEP_ID','UUCR_ID','COM_CODE2','COM_CODE','ETABLI','RGP3','FORMAT','SECT','INSPE','IUT','IUT2','ING','TOTAL','LMDDONT','DISCIPLI','CURSUS_LMD','UNIV','STS_ASS','DUT','SEXE','UUCR_NOM','DEP_NUM_NOM','ACA_NOM','REG_NOM'], as_index=False, dropna=False).agg({'EFFTOT': 'sum'}) \n",
    "elif int(rentree_sco) > 2016:\n",
    "    df=df.groupby(['RENTREE','PAYS_ID','REG_ID','ACA_ID','DEP_ID','UUCR_ID','COM_CODE2','COM_CODE','ETABLI','RGP3','FORMAT','SECT','INSPE','IUT','IUT2','ING','TOTAL','LMDDONT','DISCIPLI','CURSUS_LMD','UNIV','STS_ASS','DUT','SEXE','UUCR_NOM','DEP_NUM_NOM','ACA_NOM','REG_NOM'], as_index=False, dropna=False).agg({'EFFTOT': 'sum','EFFSDC': 'sum', 'EFF_STS_APP':'sum'}) \n",
    "elif rentree_sco in [\"2006\",\"2005\",\"2004\",\"2003\",\"2002\",\"2001\"]:\n",
    "    df=df.groupby(['RENTREE','PAYS_ID','REG_ID','ACA_ID','DEP_ID','UUCR_ID','COM_CODE2','COM_CODE','ETABLI','RGP3','FORMAT','SECT','INSPE','IUT','IUT2','ING','TOTAL','UNIV','STS_ASS','DUT','SEXE','UUCR_NOM','DEP_NUM_NOM','ACA_NOM','REG_NOM'], as_index=False, dropna=False).agg({'EFFTOT': 'sum'}) \n",
    "df.loc[df['RGP3']=='UNIV_PRIV','RGP3']='EPEU'\n",
    "df=df.rename(columns={'DEP_NUM_NOM':'DEP_NOM'})\n",
    "# nouvelle variable effectif_atlas\n",
    "df.loc[df.RENTREE.apply(lambda x: int(x) > 2014),'effectif_atlas']=df.loc[df.RENTREE.apply(lambda x: int(x) > 2014),'EFFSDC']\n",
    "df.loc[df.RENTREE.apply(lambda x: int(x) <= 2014),'effectif_atlas']=df.loc[df.RENTREE.apply(lambda x: int(x) <= 2014),'EFFTOT']"
   ]
  },
  {
   "cell_type": "code",
   "execution_count": null,
   "metadata": {},
   "outputs": [],
   "source": [
    "dict_rentree={}\n",
    "dict_annee={}\n",
    "for year in range(2001,int(datetime.now().year)):\n",
    "    dict_annee[str(year)]=str(year + 1)\n",
    "    if year < 2009:\n",
    "        dict_rentree[str(year)]=f\"{year}-0{int(str(year)[2:])+1}\"\n",
    "    else:\n",
    "        dict_rentree[str(year)]=f\"{year}-{int(str(year)[2:])+1}\"\n",
    "rentree=pd.DataFrame(dict_rentree.items(), columns=['RENTREE', 'annee_universitaire'])\n",
    "annee=pd.DataFrame(dict_annee.items(), columns=['RENTREE', 'annee'])"
   ]
  },
  {
   "cell_type": "code",
   "execution_count": null,
   "metadata": {},
   "outputs": [],
   "source": [
    "NIVEAU=pd.DataFrame({\"ACADEMIE\":\"Académie\",\"COMMUNE\":\"Commune\",\"DEPARTEMENT\":\"Département\",\"PAYS\":\"Pays\",\"REGION\":\"Région\",\"UNITE_URBAINE\":\"Unité urbaine\"}.items(), columns=['NIVEAU', 'niveau_geographique'])\n",
    "rgp=pd.DataFrame({\"CPGE\":\"Classes préparatoires aux grandes écoles (CPGE)\",\"EC_ART\":\"Écoles supérieures art et culture\",\"EC_autres\":\"Autres écoles de spécialités diverses\",\"EC_COM\":\"Écoles de commerce, gestion et comptabilité\",\"EC_JUR\":\"Écoles juridiques et administratives\",\"EC_PARAM\":\"Écoles paramédicales et sociales\",\"ENS\":\"Écoles normales supérieures (ENS)\",\"GE\":\"Grands établissements MENESR\",\"ING_autres\":\"Autres formations d'ingénieurs\",\"INP\":\"Instituts nationaux polytechniques (INP)\",\"IUFM\":\"Instituts universitaires de formation des maîtres\",\"STS\":\"Sections de techniciens supérieurs (STS) et assimilés\",\"TOTAL\":\"Total des formations d'enseignement supérieur\",\"UNIV\":\"Universités\",\"EPEU\":\"Établissements d'enseignement universitaire privés\",\"UT\":\"Universités de technologie (UT)\"}.items(), columns=['RGP3', 'rgp_formations_ou_etablissements'])\n",
    "sect=pd.DataFrame({\"PU\":\"Établissements publics\",\"PR\":\"Établissements privés\"}.items(), columns=['SECT', 'secteur_de_l_etablissement'])\n",
    "sexe=pd.DataFrame({\"1\":\"Masculin\",\"2\":\"Feminin\"}.items(), columns=['SEXE', 'sexe_de_l_etudiant'])\n",
    "niveau=['PAYS','REGION','ACADEMIE','DEPARTEMENT','UNITE_URBAINE','COMMUNE']\n",
    "tab=['PAYS','REGIONS','ACADEMIES','DEPARTEMENTS','UNITE_URBAINES','COMMUNES']\n",
    "varid=[['PAYS_ID'],['REG_ID'],['ACA_ID'],['DEP_ID'],['UUCR_ID'],['COM_CODE']]\n",
    "varlib=['PAYS_NOM','REG_NOM','ACA_NOM','DEP_NOM','UUCR_NOM','COM_NOM']\n",
    "geolist=['','REG','REG ACA','REG ACA DEP','REG UUCR','REG ACA DEP UUCR']\n",
    "geolist2=['','reg_id','reg_id aca_id','reg_id aca_id dep_id','reg_id uucr_id','reg_id aca_id dep_id uucr_id']\n",
    "geolist3=['','reg_nom','reg_nom aca_nom','reg_nom aca_nom dep_nom','reg_nom uucr_nom','reg_nom aca_nom dep_nom uucr_nom']\n",
    "df['REG']=df.loc[:,'REG_ID']\n",
    "df['ACA']=df.loc[:,'ACA_ID']\n",
    "df['DEP']=df.loc[:,'DEP_ID']\n",
    "df['UUCR']=df.loc[:,'UUCR_ID']\n",
    "dict_a={'RENTREE':'rentree','EFFTOT':'effectif','EFFSDC':'effectifhdccpge','SEXE':'sexe','SECT':'secteur','RGP3':'regroupement','PAYS_ID':'geo_id','REG_ID':'geo_id','ACA_ID':'geo_id','DEP_ID':'geo_id','UUCR_ID':'geo_id','COM_CODE':'geo_id'}\n",
    "dict_b={'PAYS_NOM':'geo_nom','REG_NOM':'geo_nom','ACA_NOM':'geo_nom','DEP_NOM':'geo_nom','UUCR_NOM':'geo_nom','COM_NOM':'geo_nom'}\n",
    "dict_c={'EFFTOT':'effectif_dut'}\n",
    "dict_d={'EFFTOT':'effectif_ing'}\n",
    "dict_e={'EFFTOT':'effectif_form_ens'}\n",
    "dict_g={'EFF_STS_APP':'effectif_apprentis_en_sts'}\n",
    "dict_f={'ACA':'aca_id','DEP':'dep_id','UUCR':'uucr_id','REG':'reg_id'}\n",
    "df['RENTREE']=df['RENTREE'].astype('str')\n",
    "df['SEXE']=df['SEXE'].astype('str')\n",
    "communes=pd.DataFrame(CORRECTIFS_dict_esr['LES_COMMUNES']).drop_duplicates()\n",
    "communes['pays']=communes.loc[:,'REG_ID'].apply(lambda x: 'Étranger' if x=='R99' else 'France')"
   ]
  },
  {
   "cell_type": "code",
   "execution_count": null,
   "metadata": {},
   "outputs": [],
   "source": [
    "for i in range(6):\n",
    "    if 'EFFSDC' not in df.columns:\n",
    "        df['EFFSDC']=0\n",
    "    if 'EFF_STS_APP' not in df.columns:\n",
    "        df['EFF_STS_APP']=0\n",
    "    print(i)\n",
    "    if i==0:\n",
    "        t1=df.groupby(['RENTREE','RGP3','SECT','SEXE']+varid[i], as_index=False, dropna=False).agg({'EFFTOT': 'sum','effectif_atlas': 'sum','EFFSDC': 'sum'}) \n",
    "        t2=df.loc[df['ING']=='ING'].groupby(['RENTREE','RGP3','SECT','SEXE']+varid[i], as_index=False, dropna=False).agg({'EFFTOT': 'sum','effectif_atlas': 'sum','EFFSDC': 'sum'}) \n",
    "        t3=df.loc[df['IUT']=='IUT'].groupby(['RENTREE','RGP3','SECT','SEXE']+varid[i], as_index=False, dropna=False).agg({'EFFTOT': 'sum','effectif_atlas': 'sum','EFFSDC': 'sum'}) \n",
    "        t4=df.loc[df['INSPE']=='ESPE'].groupby(['RENTREE','RGP3','SECT','SEXE']+varid[i], as_index=False, dropna=False).agg({'EFFTOT': 'sum','effectif_atlas': 'sum','EFFSDC': 'sum'}) \n",
    "        t5=df.loc[df['EFF_STS_APP']!=0].groupby(['RENTREE','RGP3','SECT','SEXE']+varid[i], as_index=False, dropna=False).agg({'EFF_STS_APP':'sum'}) \n",
    "        \n",
    "        t11=t1.groupby(['RENTREE','SECT','SEXE']+varid[i], as_index=False, dropna=False).agg({'EFFTOT': 'sum','EFFSDC': 'sum'}) \n",
    "        t22=t2.groupby(['RENTREE','RGP3','SECT','SEXE']+varid[i], as_index=False, dropna=False).agg({'EFFTOT': 'sum','EFFSDC': 'sum'}) \n",
    "        t33=t3.groupby(['RENTREE','SECT','SEXE']+varid[i], as_index=False, dropna=False).agg({'EFFTOT': 'sum','EFFSDC': 'sum'}) \n",
    "        t44=t4.groupby(['RENTREE','SECT','SEXE']+varid[i], as_index=False, dropna=False).agg({'EFFTOT': 'sum','EFFSDC': 'sum'}) \n",
    "        t55=t5.groupby(['RENTREE','SECT','SEXE']+varid[i], as_index=False, dropna=False).agg({'EFF_STS_APP':'sum'}) \n",
    "    else:\n",
    "        t1=df.groupby(['RENTREE','RGP3','SECT','SEXE']+varid[i]+list(geolist[i].split(' ')), as_index=False, dropna=False).agg({'EFFTOT': 'sum','effectif_atlas': 'sum','EFFSDC': 'sum'}) \n",
    "        t2=df.loc[df['ING']=='ING'].groupby(['RENTREE','RGP3','SECT','SEXE']+varid[i]+geolist[i].split(' '), as_index=False, dropna=False).agg({'EFFTOT': 'sum','effectif_atlas': 'sum','EFFSDC': 'sum'}) \n",
    "        t3=df.loc[df['IUT']=='IUT'].groupby(['RENTREE','RGP3','SECT','SEXE']+varid[i]+geolist[i].split(' '), as_index=False, dropna=False).agg({'EFFTOT': 'sum','effectif_atlas': 'sum','EFFSDC': 'sum'}) \n",
    "        t4=df.loc[df['INSPE']=='ESPE'].groupby(['RENTREE','RGP3','SECT','SEXE']+varid[i]+geolist[i].split(' '), as_index=False, dropna=False).agg({'EFFTOT': 'sum','effectif_atlas': 'sum','EFFSDC': 'sum'}) \n",
    "        t5=df.loc[df['EFF_STS_APP']!=0].groupby(['RENTREE','RGP3','SECT','SEXE']+varid[i]+geolist[i].split(' '), as_index=False, dropna=False).agg({'EFF_STS_APP':'sum'}) \n",
    "\n",
    "\n",
    "        t11=t1.groupby(['RENTREE','SECT','SEXE']+varid[i]+geolist[i].split(' '), as_index=False, dropna=False).agg({'EFFTOT': 'sum','effectif_atlas': 'sum','EFFSDC': 'sum'}) \n",
    "        t22=t2.groupby(['RENTREE','RGP3','SECT','SEXE']+varid[i]+geolist[i].split(' '), as_index=False, dropna=False).agg({'EFFTOT': 'sum','effectif_atlas': 'sum','EFFSDC': 'sum'}) \n",
    "        t33=t3.groupby(['RENTREE','SECT','SEXE']+varid[i]+geolist[i].split(' '), as_index=False, dropna=False).agg({'EFFTOT': 'sum','effectif_atlas': 'sum','EFFSDC': 'sum'}) \n",
    "        t44=t4.groupby(['RENTREE','SECT','SEXE']+varid[i]+geolist[i].split(' '), as_index=False, dropna=False).agg({'EFFTOT': 'sum','effectif_atlas': 'sum','EFFSDC': 'sum'}) \n",
    "        t55=t5.groupby(['RENTREE','SECT','SEXE']+varid[i]+geolist[i].split(' '), as_index=False, dropna=False).agg({'EFF_STS_APP':'sum'}) \n",
    "    \n",
    "    t111=pd.concat([t1,t11])\n",
    "    t111.loc[pd.isna(t111['RGP3']),'RGP3']='TOTAL'\n",
    "    t111['NIVEAU']=[niveau[i] for x in range(0,len(t111))]\n",
    "    t111=pd.merge(t111,rentree,on='RENTREE',how='left')\n",
    "    t111=pd.merge(t111,annee,on='RENTREE',how='left')\n",
    "    t111=pd.merge(t111,NIVEAU,on='NIVEAU',how='left')\n",
    "    t111=pd.merge(t111,rgp,on='RGP3',how='left')\n",
    "    t111=pd.merge(t111,sect,on='SECT',how='left')\n",
    "    t111=pd.merge(t111,sexe,on='SEXE',how='left')\n",
    "    t111['niveau_geo']=t111.loc[:,'NIVEAU']\n",
    "\n",
    "    t222=pd.concat([t2,t22])\n",
    "    t222.loc[pd.isna(t222['RGP3']),'RGP3']='TOTAL'\n",
    "\n",
    "    t333=pd.concat([t3,t33])\n",
    "    t333.loc[pd.isna(t333['RGP3']),'RGP3']='TOTAL'\n",
    "\n",
    "    t444=pd.concat([t4,t44])\n",
    "    t444.loc[pd.isna(t444['RGP3']),'RGP3']='TOTAL'\n",
    "\n",
    "    t555=pd.concat([t5,t55])\n",
    "    t555.loc[pd.isna(t555['RGP3']),'RGP3']='TOTAL'\n",
    "\n",
    "    if i==0:\n",
    "        A=['RENTREE','annee_universitaire','annee','niveau_geo','niveau_geographique','RGP3','rgp_formations_ou_etablissements','SECT','secteur_de_l_etablissement','SEXE','sexe_de_l_etudiant','EFFTOT','EFFSDC','effectif_atlas']+varid[i]\n",
    "        df1=t111[A]\n",
    "        df1['pays']=df1.loc[:,'PAYS_ID'].apply(lambda x: 'Étranger' if x=='PAYS_999' else 'France')\n",
    "        df1=df1.rename(columns=dict_a)\n",
    "        df1=df1.rename(columns=dict_b)\n",
    "        print(df1.columns)\n",
    "    else:\n",
    "        A=['RENTREE','annee_universitaire','annee','niveau_geo','niveau_geographique','RGP3','rgp_formations_ou_etablissements','SECT','secteur_de_l_etablissement','SEXE','sexe_de_l_etudiant','EFFTOT','EFFSDC','effectif_atlas']+varid[i]+geolist[i].split(' ')\n",
    "        T=t111[A].rename(columns=dict_a)\n",
    "        C=communes[[varlib[i],varid[i][0],'pays']].rename(columns=dict_b).drop_duplicates()\n",
    "        df1=pd.merge(T,C,how= 'left', left_on='geo_id', right_on=varid[i][0])\n",
    "        del df1[varid[i][0]]\n",
    "        print(df1.columns)\n",
    "    \n",
    "    df2=pd.merge(df1,t333[['EFFTOT','RGP3','SECT','SEXE',varid[i][0]]].rename(columns=dict_c).drop_duplicates(),how= 'left', left_on=['geo_id','regroupement','secteur','sexe'], right_on = [varid[i][0],'RGP3','SECT','SEXE'])\n",
    "    df2=df2.drop([varid[i][0],'RGP3','SECT','SEXE'], axis=1)\n",
    "    df3=pd.merge(df2,t222[['EFFTOT','RGP3','SECT','SEXE',varid[i][0]]].rename(columns=dict_d).drop_duplicates(),how= 'left', left_on=['geo_id','regroupement','secteur','sexe'], right_on = [varid[i][0],'RGP3','SECT','SEXE'])\n",
    "    df3=df3.drop([varid[i][0],'RGP3','SECT','SEXE'], axis=1)\n",
    "    df4=pd.merge(df3,t444[['EFFTOT','RGP3','SECT','SEXE',varid[i][0]]].rename(columns=dict_e).drop_duplicates(),how= 'left', left_on=['geo_id','regroupement','secteur','sexe'], right_on = [varid[i][0],'RGP3','SECT','SEXE'])\n",
    "    df4=df4.drop([varid[i][0],'RGP3','SECT','SEXE'], axis=1)\n",
    "    df5=pd.merge(df4,t555[['EFF_STS_APP','RGP3','SECT','SEXE',varid[i][0]]].rename(columns=dict_g).drop_duplicates(),how= 'left', left_on=['geo_id','regroupement','secteur','sexe'], right_on = [varid[i][0],'RGP3','SECT','SEXE'])\n",
    "    df5=df5.drop([varid[i][0],'RGP3','SECT','SEXE'], axis=1)\n",
    "\n",
    "    df5['geo_id']=df5.loc[:,'geo_id'].apply(lambda x: 'PAYS_AUTRE' if x=='PAYS_999' else x)\n",
    "\n",
    "    df5['effectif_dut']=df5.loc[:,'effectif_dut'].apply(lambda x: 0 if pd.isna(x) else x)\n",
    "    df5['effectif_ing']=df5.loc[:,'effectif_ing'].apply(lambda x: 0 if pd.isna(x) else x)\n",
    "    df5['effectif_form_ens']=df5.loc[:,'effectif_form_ens'].apply(lambda x: 0 if pd.isna(x) else x)\n",
    "    df5['effectif_apprentis_en_sts']=df5.loc[:,'effectif_apprentis_en_sts'].apply(lambda x: 0 if pd.isna(x) else x)\n",
    "\n",
    "\n",
    "    if i==0:\n",
    "        df6=df5.drop_duplicates(subset=['rentree', 'annee_universitaire', 'annee', 'niveau_geo','niveau_geographique', 'regroupement',\n",
    "        'rgp_formations_ou_etablissements', 'secteur',\n",
    "        'secteur_de_l_etablissement', 'sexe', 'sexe_de_l_etudiant', 'effectif',\n",
    "        'effectifhdccpge','geo_id','pays'])\n",
    "\n",
    "        df7=df6.groupby(['rentree', 'annee_universitaire', 'annee', 'niveau_geo','niveau_geographique', 'regroupement',\n",
    "            'rgp_formations_ou_etablissements', 'secteur',\n",
    "            'secteur_de_l_etablissement', 'sexe', 'sexe_de_l_etudiant', 'geo_id','pays'], as_index=False, dropna=False).agg({'effectif': 'sum','effectifhdccpge': 'sum','effectif_dut': 'sum','effectif_ing': 'sum','effectif_form_ens': 'sum','effectif_apprentis_en_sts':'sum'}) \n",
    "    \n",
    "    else:\n",
    "        l1=['rentree', 'annee_universitaire', 'annee', 'niveau_geo','niveau_geographique', 'regroupement',\n",
    "        'rgp_formations_ou_etablissements', 'secteur',\n",
    "        'secteur_de_l_etablissement', 'sexe', 'sexe_de_l_etudiant', 'effectif',\n",
    "        'effectifhdccpge','effectif_apprentis_en_sts','geo_id', 'geo_nom']+geolist2[i].split(' ')+['pays']\n",
    "        df6=df5.rename(columns=dict_f).drop_duplicates(subset=l1)\n",
    "\n",
    "        l2=['rentree', 'annee_universitaire', 'annee', 'niveau_geo','niveau_geographique', 'regroupement',\n",
    "            'rgp_formations_ou_etablissements', 'secteur',\n",
    "            'secteur_de_l_etablissement', 'sexe', 'sexe_de_l_etudiant', 'geo_id', 'geo_nom']+geolist2[i].split(' ')+['pays']\n",
    "        df7=df6.groupby(l2, as_index=False, dropna=False).agg({'effectif': 'sum','effectifhdccpge': 'sum','effectif_dut': 'sum','effectif_ing': 'sum','effectif_form_ens': 'sum','effectif_apprentis_en_sts':'sum'}) \n",
    "\n",
    "    df7['a_des_effectifs_dut']=df7.loc[:,'effectif_dut'].apply(lambda x: 'oui' if x>0 else 'non')\n",
    "    df7['a_des_effectifs_ing']=df7.loc[:,'effectif_ing'].apply(lambda x: 'oui' if x>0 else 'non')\n",
    "    df7['a_des_effectifs_form_ens']=df7.loc[:,'effectif_form_ens'].apply(lambda x: 'oui' if x>0 else 'non')\n",
    "    df7['a_des_effectifs_apprentis_sts']=df7.loc[:,'effectif_apprentis_en_sts'].apply(lambda x: 'oui' if x>0 else 'non')\n",
    "\n",
    "    df8=df7[df7.effectif!=0]\n",
    "    if i==4:\n",
    "        df8['uu']=df8['geo_id'].apply(lambda x: True if str(x)[:2]=='UU' else False)\n",
    "        df8=df8[df8['uu']==True]\n",
    "        del df8['uu']\n",
    "    niveau[i]=df8\n",
    "    \n"
   ]
  },
  {
   "cell_type": "code",
   "execution_count": null,
   "metadata": {},
   "outputs": [],
   "source": [
    "#concat tous les niveaux de geo_id"
   ]
  },
  {
   "cell_type": "code",
   "execution_count": null,
   "metadata": {},
   "outputs": [],
   "source": [
    "df_all=pd.concat([niveau[0],niveau[1],niveau[2],niveau[3],niveau[4],niveau[5]])\n",
    "df_all.index=[x for x in range(len(df_all))]"
   ]
  },
  {
   "cell_type": "code",
   "execution_count": null,
   "metadata": {},
   "outputs": [],
   "source": [
    "df_all=df_all[['rentree', 'annee_universitaire', 'annee', 'regroupement','niveau_geo','niveau_geographique',\n",
    "       'rgp_formations_ou_etablissements', 'secteur',\n",
    "       'secteur_de_l_etablissement', 'sexe', 'sexe_de_l_etudiant', 'geo_id',\n",
    "       'effectif', 'effectifhdccpge', 'effectif_dut', 'effectif_ing',\n",
    "       'effectif_form_ens', 'effectif_apprentis_en_sts', 'a_des_effectifs_dut',\n",
    "       'a_des_effectifs_ing', 'a_des_effectifs_form_ens',\n",
    "       'a_des_effectifs_apprentis_sts', 'geo_nom', 'pays', 'reg_id', 'aca_id',\n",
    "       'dep_id', 'uucr_id']]"
   ]
  },
  {
   "cell_type": "code",
   "execution_count": null,
   "metadata": {},
   "outputs": [],
   "source": [
    "df_all.to_json(f\"./OUTPUT_OPENDATA/atlas{rentree_sco}.json\", orient='records')"
   ]
  },
  {
   "cell_type": "markdown",
   "metadata": {},
   "source": [
    "Une fois qu'on a fait tourner ce qu'il y a au dessus pour chaque année (à moins qu'il n'y ait pas de changement dans le code, on peut garder les output des années précédentes j'imagine), on concatene toutes les années ensemble"
   ]
  },
  {
   "cell_type": "code",
   "execution_count": 4,
   "metadata": {},
   "outputs": [],
   "source": [
    "df1=pd.read_json(f\"./OUTPUT_OPENDATA/atlas2001.json\")\n",
    "for i in range(2002,int(rentree_sco)+1,1):\n",
    "    df2=pd.read_json(f\"./OUTPUT_OPENDATA/atlas{i}.json\")\n",
    "    df1=pd.concat([df1,df2])"
   ]
  },
  {
   "cell_type": "code",
   "execution_count": 5,
   "metadata": {},
   "outputs": [],
   "source": [
    "df=df1.sort_values(by=[\"rentree\"], ascending=False)"
   ]
  },
  {
   "cell_type": "code",
   "execution_count": 6,
   "metadata": {},
   "outputs": [],
   "source": [
    "df_tot=df.reset_index()\n",
    "del df_tot['index']"
   ]
  },
  {
   "cell_type": "code",
   "execution_count": 10,
   "metadata": {},
   "outputs": [],
   "source": [
    "df_tot=df_tot[['rentree', 'annee_universitaire', 'annee', 'regroupement', 'niveau_geo',\n",
    "       'niveau_geographique', 'rgp_formations_ou_etablissements', 'secteur',\n",
    "       'secteur_de_l_etablissement', 'sexe', 'sexe_de_l_etudiant', 'geo_id',\n",
    "       'effectif', 'effectifhdccpge', 'effectif_atlas', 'effectif_dut', 'effectif_ing',\n",
    "       'effectif_form_ens', 'effectif_apprentis_en_sts', 'a_des_effectifs_dut',\n",
    "       'a_des_effectifs_ing', 'a_des_effectifs_form_ens',\n",
    "       'a_des_effectifs_apprentis_sts', 'geo_nom', 'pays', 'reg_id', 'aca_id',\n",
    "       'dep_id', 'uucr_id']]"
   ]
  },
  {
   "cell_type": "code",
   "execution_count": 11,
   "metadata": {},
   "outputs": [],
   "source": [
    "df_com=df_tot"
   ]
  },
  {
   "cell_type": "code",
   "execution_count": 12,
   "metadata": {},
   "outputs": [],
   "source": [
    "del df_tot['pays']"
   ]
  },
  {
   "cell_type": "code",
   "execution_count": 13,
   "metadata": {},
   "outputs": [],
   "source": [
    "df_tot.to_json(\"./OUTPUT_OPENDATA/OD_atlas_all.json\", orient='records')"
   ]
  },
  {
   "cell_type": "code",
   "execution_count": 14,
   "metadata": {},
   "outputs": [],
   "source": [
    "df_tot.to_csv(\"./OUTPUT_OPENDATA/OD_atlas_all.csv\", sep=\";\", encoding=\"UTF-8\", index=False)"
   ]
  },
  {
   "cell_type": "markdown",
   "metadata": {},
   "source": [
    "juste les communes"
   ]
  },
  {
   "cell_type": "code",
   "execution_count": 15,
   "metadata": {},
   "outputs": [],
   "source": [
    "communes=pd.DataFrame(CORRECTIFS_dict_esr['LES_COMMUNES']).drop_duplicates()\n",
    "communes['pays']=communes.loc[:,'REG_ID'].apply(lambda x: 'Étranger' if x=='R99' else 'France')"
   ]
  },
  {
   "cell_type": "code",
   "execution_count": 16,
   "metadata": {},
   "outputs": [],
   "source": [
    "df_com=df_com[(df_com.niveau_geo=='COMMUNE')&(df_com.regroupement!='TOTAL')].rename(columns={\"geo_id\":\"com_id\", \"geo_nom\":\"com_nom\"})"
   ]
  },
  {
   "cell_type": "code",
   "execution_count": 17,
   "metadata": {},
   "outputs": [],
   "source": [
    "df_com=pd.merge(df_com,communes[['COM_CODE','UUCR_NOM','DEP_NOM','ACA_NOM','REG_NOM']], how='left', left_on='com_id', right_on='COM_CODE')"
   ]
  },
  {
   "cell_type": "code",
   "execution_count": 18,
   "metadata": {},
   "outputs": [],
   "source": [
    "del df_com['niveau_geo']\n",
    "del df_com['niveau_geographique']"
   ]
  },
  {
   "cell_type": "code",
   "execution_count": 19,
   "metadata": {},
   "outputs": [
    {
     "data": {
      "text/plain": [
       "False"
      ]
     },
     "execution_count": 19,
     "metadata": {},
     "output_type": "execute_result"
    }
   ],
   "source": [
    "'pays' in list(df_com.columns) "
   ]
  },
  {
   "cell_type": "code",
   "execution_count": 20,
   "metadata": {},
   "outputs": [],
   "source": [
    "df_com.to_json(f\"./OUTPUT_OPENDATA/OD_atlas_all_com.json\", orient='records')\n",
    "df_com.to_csv(\"./OUTPUT_OPENDATA/OD_atlas_all_com.csv\", sep=\";\", encoding=\"UTF-8\", index=False)"
   ]
  }
 ],
 "metadata": {
  "kernelspec": {
   "display_name": "Python 3",
   "language": "python",
   "name": "python3"
  },
  "language_info": {
   "codemirror_mode": {
    "name": "ipython",
    "version": 3
   },
   "file_extension": ".py",
   "mimetype": "text/x-python",
   "name": "python",
   "nbconvert_exporter": "python",
   "pygments_lexer": "ipython3",
   "version": "3.9.10"
  },
  "orig_nbformat": 4
 },
 "nbformat": 4,
 "nbformat_minor": 2
}
